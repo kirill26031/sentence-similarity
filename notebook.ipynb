{
 "cells": [
  {
   "cell_type": "markdown",
   "metadata": {},
   "source": [
    "Sentence similarity\n",
    "Dataset: STS"
   ]
  },
  {
   "cell_type": "code",
   "execution_count": null,
   "metadata": {},
   "outputs": [],
   "source": [
    "import torch\n",
    "from datasets import load_dataset, Dataset\n",
    "import nltk\n",
    "import re\n",
    "import numpy as np\n",
    "import pandas as pd\n",
    "from torch.utils.data import DataLoader\n",
    "from sentence_transformers import SentenceTransformer, SentenceTransformerTrainer, losses\n",
    "\n",
    "from nltk.corpus import words\n",
    "from nltk.corpus import stopwords\n",
    "nltk.download('stopwords', quiet=True)\n",
    "nltk.download('words', quiet=True)\n",
    "nltk.download('wordnet', quiet=True)\n",
    "# vocab = set(words.words())\n",
    "from nltk.stem import *\n",
    "\n",
    "from preprocessing import clean_sentence, vocab, clean_dataset"
   ]
  },
  {
   "cell_type": "code",
   "execution_count": null,
   "metadata": {},
   "outputs": [],
   "source": [
    "ds = load_dataset(\"tabilab/biosses\")"
   ]
  },
  {
   "cell_type": "code",
   "execution_count": null,
   "metadata": {},
   "outputs": [],
   "source": [
    "train_test = ds['train'].train_test_split(test_size=0.2, seed=42)\n",
    "train_validate = train_test['train'].train_test_split(test_size=0.2, seed=42)\n",
    "train_set = train_validate['train']\n",
    "validate_set = train_validate['test']\n",
    "test_set = train_test['test']"
   ]
  },
  {
   "cell_type": "code",
   "execution_count": null,
   "metadata": {},
   "outputs": [],
   "source": [
    "stemmer = PorterStemmer()"
   ]
  },
  {
   "cell_type": "code",
   "execution_count": null,
   "metadata": {},
   "outputs": [],
   "source": [
    "stemmed_words = set(map(lambda word: stemmer.stem(word), words.words()))"
   ]
  },
  {
   "cell_type": "code",
   "execution_count": null,
   "metadata": {},
   "outputs": [],
   "source": [
    "cleaned_train, unknown_words = clean_dataset(train_set, stemmed_words)\n",
    "cleaned_validation, _ = clean_dataset(validate_set, stemmed_words)\n",
    "cleaned_test, _ = clean_dataset(test_set, stemmed_words)"
   ]
  },
  {
   "cell_type": "code",
   "execution_count": null,
   "metadata": {},
   "outputs": [
    {
     "name": "stdout",
     "output_type": "stream",
     "text": [
      "{'pRb', 'Arp4-related', 'miR-16−1', 'Transfection', 'RIP3', 'et', 'non-neural', '3', 'PPP', 'OSCC', 'downregulated', '22]', '(Mirus)', 'AML', 'ESCs', 'up-regulation', '95%', 'receptor-interacting', 'ligase', 'upregulation', 'upregulated', 'protein-α', 'rate-limiting', 'miR-24', 'NH2-terminal', 'hr', 'Kras-driven', 'let-7)', 'miR-223', 'IL-1', '1', 'CCAAT/enhancer', 'MiR-155', 'S2)', 'TFs', 'Sox11', 'SOX2', 'review)', 'Aurora-A', '[18]', 'IDH1/IDH2', 'signal-regulated', 'TET', 'proteasome', 'RNAi-mediated', 'I/A', 'miR-34a', '(GAPs)', 'GTPase', 'miR-143', 'hWts2', 'MiR-223', '(BRG-associated', 'microtubule-nucleating', '(GEFs)', '“cyclin', 'interest;', '(RIP', 'IDH1', 'RNAi', 'miR-204', 'TEL-AML1-positive', 'Arp', 'ductal', 'Up-regulation', 'OCT4', 'dose-dependent', 'GATA6', 'HeLa', '<20%', 'ubiquitin', '(together', 'TargetScan', 'RXXL', 'oncogene', 'Co-transfection', 'EC', 'Neuro-2a', 'qRT-PCR', 'RIP1', 'miR-146b', 'large-scale', '7.4-fold', 'EGFR', '43', 'K-Ras-driven', 'BCL-XL/MEK', 'UTR', 'senescence-like', 'vitro', 'Oct4', 'Oct4-associated', 'localisation', 'cycle-dependent', 'caspase', 'TBK1', 'SWI/SNF-regulated', 'actin-related', 'miR-373', 'hepatocellular', 'serine-threonine', 'Braf', 'carcinoma]', 'miR-21)', 'p19(p14)/ARF', 'NSCLC', '(APC)', 'tumor-suppressor', 'shRNA-based', 'StemBase', 'miR-146a', '2004)', 'PLK1', 'LATS1', 'ribonucleotide', 'Lats2/Kpm', 'SOX-17', 'deregulation', 'POU5F1', 'BAF', 'box”', 'hmC', 'TAK1', 'miRVec-miR-204', 'miR-34', 'chromatin-remodeling', 'GATA2', 'tumorigenic', '500', '(NFI-A)', 'MOE430A', 'oncogenic', 'genome-scale', '(RIP1', 'Cyclin', 'transfected', 'stem/progenitor', 'Craf', 'miRNAs', 'Thr288', '24-well', 'oncogene-driven', 'SDS-PAGE', 'SWI/SNF', 'ubiquitination', 'Tet2', 'B-ALL', 'Oct-4', 'clear-cell', 'ribosome', 'RIP3)', 'pre-miRNA', 'TransIT-LT1', 'miR-126', 'Caco-2', 'HOPX', 'knock-down', 'LATS2-depletion', 'Rho-signalling', 'miRNA-regulated', 'tumour', 'pCAG-GFP', '23]', '(e.g', 'Wts2', '(RIP1)', 'oncogenes', 'necroptosis', 'zebrafish', '[', '(CD44', 'MCF7', 'BRaf', '10]', 'ng', 'caspase-8', 'CDK5RAP2/Cnn', 'GEFs', 'MCF-7', 'eukaryotic', 'mdm2', 'Lats1', 'APC-dependent', 'miR-155', 'IDH2', 'coverslips', 'HEK293T', '(C/EBPα)', 'checkpoints', 'transcriptomics', 'miRNA', 'Skbr3', 'ERK', 'miR-145', 'myeloid-specific', 'TNF-mediated', '7,000', 'up-regulated', 'microarray', 'factor)', 'IDH1R132H', 'WT1', '24', '72', '286', 'K-Ras', 'Affymetrix', 'RHIMs)', '90%', 'c-Raf', 'H-RASV12', 'STK33', 'TET2', '(RB1)', 'ATP-dependent', 'miR-21', 'apoptotic', 'TET1/2/3', 'loss-of-function', 'vivo', 'respectively)', 'downregulation', 'CRaf', 'electroporated', '(ATCC)', 'oncogenesis]', 'G-proteins', '(see', 'miR-372)', 'BAF53', 'T47D', 'RHO-related', 'RIPK1', 'anaphase-promoting', '5', 'miR-133b', 'PC9', 'pSuper', 'pRB', 'druggable', 'DIANA-microT', 'PicTar', 'KRas-dependent', 'wild-type', 'E2F1', 'Renilla-3′', 'prometastatic', 'self-renewal', 'electroporation', 'erythropoietin', '(AML)', 'D1', 'β-actin', '(PTC)', '(', 'long-standing', '5′', 'TRAF6', 'Gata2', 'scrambled-miRVec', 'cyclin', 'miR-204-miRVec', 'LATS2', 'dysregulation', 'NSCLCs', 'Toji', 'co-transfected', '[8]', 'G2/M', 'epithelial-mesenchymal', 'Eukaryotic', 'Oct-4-dependent', 'granulopoiesis', 'miR-17−5p', 'IDH', 'tumorigenesis', '16', 'miR-15a', 'SWI/SNF-like', 'so-called', 'p53', '(Fig', 'NIH3T3', 'RIPK3', 'RNAhybrid', 'germ-cell', 'K-ras-dependent', 'plasmid', 'RNA', 'and/or', 'Tumorigenesis', 'GTP-bound', 'chromatin/nuclear'}\n",
      "293\n"
     ]
    }
   ],
   "source": [
    "print(unknown_words)\n",
    "print(len(unknown_words))"
   ]
  },
  {
   "cell_type": "code",
   "execution_count": null,
   "metadata": {},
   "outputs": [],
   "source": [
    "torch.cuda.empty_cache()"
   ]
  },
  {
   "cell_type": "code",
   "execution_count": null,
   "metadata": {},
   "outputs": [],
   "source": [
    "from sentence_transformers import SentenceTransformer, SentenceTransformerTrainingArguments\n",
    "from sentence_transformers.evaluation import EmbeddingSimilarityEvaluator, SimilarityFunction\n",
    "from sentence_transformers.losses import CoSENTLoss\n",
    "\n",
    "# Load a model to train/finetune\n",
    "model = SentenceTransformer('all-MiniLM-L6-v2', device=\"cuda\")\n",
    "\n",
    "# Initialize the CoSENTLoss\n",
    "# This loss requires pairs of text and a float similarity score as a label\n",
    "loss = CoSENTLoss(model)"
   ]
  },
  {
   "cell_type": "code",
   "execution_count": null,
   "metadata": {},
   "outputs": [],
   "source": [
    "train_s1 = cleaned_train['sentence1']\n",
    "train_s2 = cleaned_train['sentence2']\n",
    "validation_s1 = cleaned_validation['sentence1']\n",
    "validation_s2 = cleaned_validation['sentence2']"
   ]
  },
  {
   "cell_type": "code",
   "execution_count": null,
   "metadata": {},
   "outputs": [],
   "source": [
    "# train_emb1 = model.encode(train_s1, normalize_embeddings=True)\n",
    "# train_emb2 = model.encode(train_s2, normalize_embeddings=True)\n",
    "# validation_emb1 = model.encode(validation_s1, normalize_embeddings=True)\n",
    "# validation_emb2 = model.encode(validation_s2, normalize_embeddings=True)"
   ]
  },
  {
   "cell_type": "code",
   "execution_count": null,
   "metadata": {},
   "outputs": [],
   "source": [
    "# validation_similarities = model.similarity_pairwise(validation_emb1, validation_emb2)\n",
    "# print(validation_similarities)\n",
    "ground_truth_validation = cleaned_validation[\"score\"]\n",
    "# print(ground_truth_validation)\n",
    "# print(loss.forward(\n",
    "#     {\"sentence1\": cleaned_validation[\"sentence1\"],\n",
    "#      \"sentence2\": cleaned_validation[\"sentence2\"]}, \n",
    "#     ground_truth_validation))"
   ]
  },
  {
   "cell_type": "code",
   "execution_count": null,
   "metadata": {},
   "outputs": [
    {
     "name": "stdout",
     "output_type": "stream",
     "text": [
      "tensor([0.6227, 0.7996, 0.4542, 0.7373, 0.5717, 0.9421, 0.4272, 0.3671, 0.2034,\n",
      "        0.7460, 0.5736, 0.5206, 0.8329, 0.6441, 0.5521, 0.7422, 0.3377, 0.7593,\n",
      "        0.4291, 0.3967])\n",
      "[0.20000004768371582, 0.7999999523162842, -0.30000001192092896, 0.6000000238418579, 0.5, 1.0, 0.0, -0.30000001192092896, -0.10000002384185791, 0.7000000476837158, 0.0, 0.0, 0.8999999761581421, 0.7000000476837158, 0.7999999523162842, 0.5, 0.20000004768371582, 0.6000000238418579, 0.20000004768371582, -0.30000001192092896]\n"
     ]
    },
    {
     "name": "stderr",
     "output_type": "stream",
     "text": [
      "C:\\Users\\pc\\AppData\\Roaming\\Python\\Python312\\site-packages\\transformers\\models\\bert\\modeling_bert.py:439: UserWarning: 1Torch was not compiled with flash attention. (Triggered internally at C:\\cb\\pytorch_1000000000000\\work\\aten\\src\\ATen\\native\\transformers\\cuda\\sdp_utils.cpp:555.)\n",
      "  attn_output = torch.nn.functional.scaled_dot_product_attention(\n"
     ]
    }
   ],
   "source": [
    "test_similarities = model.similarity_pairwise(\n",
    "    model.encode(cleaned_test['sentence1'], normalize_embeddings=True),\n",
    "      model.encode(cleaned_test['sentence2'], normalize_embeddings=True))\n",
    "print(test_similarities)\n",
    "ground_truth_test = cleaned_test[\"score\"]\n",
    "print(ground_truth_test)"
   ]
  },
  {
   "cell_type": "code",
   "execution_count": null,
   "metadata": {},
   "outputs": [],
   "source": [
    "args = SentenceTransformerTrainingArguments(\n",
    "    # Required parameter:\n",
    "    output_dir=\"models/all-MiniLM-L6-v2\",\n",
    "    # Optional training parameters:\n",
    "    num_train_epochs=300,\n",
    "    per_device_train_batch_size=4,\n",
    "    per_device_eval_batch_size=100,\n",
    "    learning_rate=1e-6,\n",
    "    warmup_ratio=0.1,\n",
    "    fp16=True,  # Set to False if you get an error that your GPU can't run on FP16\n",
    "    bf16=False,  # Set to True if you have a GPU that supports BF16\n",
    "    # batch_sampler=BatchSamplers.NO_DUPLICATES,  # losses that use \"in-batch negatives\" benefit from no duplicates\n",
    "    # Optional tracking/debugging parameters:\n",
    "    eval_strategy=\"steps\",\n",
    "    eval_steps=0.05,\n",
    "    save_strategy=\"steps\",\n",
    "    save_steps=0.05,\n",
    "    save_total_limit=3,\n",
    "    load_best_model_at_end=True,\n",
    "    logging_steps=0.05,\n",
    "    run_name='all-MiniLM-L6-v2',  # Will be used in W&B if `wandb` is installed\n",
    ")"
   ]
  },
  {
   "cell_type": "code",
   "execution_count": null,
   "metadata": {},
   "outputs": [],
   "source": [
    "dev_evaluator = EmbeddingSimilarityEvaluator(\n",
    "    sentences1=cleaned_validation[\"sentence1\"],\n",
    "    sentences2=cleaned_validation[\"sentence2\"],\n",
    "    scores=cleaned_validation[\"score\"],\n",
    "    name=\"BIOSSES_validate\",\n",
    ")\n",
    "test_evaluator = EmbeddingSimilarityEvaluator(\n",
    "    sentences1=cleaned_test[\"sentence1\"],\n",
    "    sentences2=cleaned_test[\"sentence2\"],\n",
    "    scores=cleaned_test[\"score\"],\n",
    "    name=\"BIOSSES_test\",\n",
    ")\n",
    "results = dev_evaluator(model)"
   ]
  },
  {
   "cell_type": "code",
   "execution_count": null,
   "metadata": {},
   "outputs": [
    {
     "data": {
      "text/plain": [
       "{'BIOSSES_validate_pearson_cosine': 0.8034244246101594,\n",
       " 'BIOSSES_validate_spearman_cosine': 0.7961717622928737}"
      ]
     },
     "execution_count": 16,
     "metadata": {},
     "output_type": "execute_result"
    }
   ],
   "source": [
    "results"
   ]
  },
  {
   "cell_type": "code",
   "execution_count": null,
   "metadata": {},
   "outputs": [
    {
     "data": {
      "application/vnd.jupyter.widget-view+json": {
       "model_id": "f6b522b9aff74f27b6e5bf8cbdc9d7b4",
       "version_major": 2,
       "version_minor": 0
      },
      "text/plain": [
       "  0%|          | 0/1600 [00:00<?, ?it/s]"
      ]
     },
     "metadata": {},
     "output_type": "display_data"
    },
    {
     "name": "stdout",
     "output_type": "stream",
     "text": [
      "{'loss': 1.7895, 'grad_norm': 132.9878387451172, 'learning_rate': 5e-07, 'epoch': 5.0}\n"
     ]
    },
    {
     "data": {
      "application/vnd.jupyter.widget-view+json": {
       "model_id": "bee8cb3e72434254bee174120b73cac8",
       "version_major": 2,
       "version_minor": 0
      },
      "text/plain": [
       "  0%|          | 0/1 [00:00<?, ?it/s]"
      ]
     },
     "metadata": {},
     "output_type": "display_data"
    },
    {
     "name": "stdout",
     "output_type": "stream",
     "text": [
      "{'eval_loss': 7.377745628356934, 'eval_BIOSSES_validate_pearson_cosine': 0.8051602243791965, 'eval_BIOSSES_validate_spearman_cosine': 0.784310730452384, 'eval_runtime': 0.1367, 'eval_samples_per_second': 117.028, 'eval_steps_per_second': 7.314, 'epoch': 5.0}\n"
     ]
    },
    {
     "data": {
      "application/vnd.jupyter.widget-view+json": {
       "model_id": "210ca105b9f34dd1a2a4919f041eabac",
       "version_major": 2,
       "version_minor": 0
      },
      "text/plain": [
       "Computing widget examples:   0%|          | 0/1 [00:00<?, ?example/s]"
      ]
     },
     "metadata": {},
     "output_type": "display_data"
    },
    {
     "name": "stdout",
     "output_type": "stream",
     "text": [
      "{'loss': 2.0507, 'grad_norm': 62.082393646240234, 'learning_rate': 1e-06, 'epoch': 10.0}\n"
     ]
    },
    {
     "data": {
      "application/vnd.jupyter.widget-view+json": {
       "model_id": "a80abcdc363843088985f88d5a7becfe",
       "version_major": 2,
       "version_minor": 0
      },
      "text/plain": [
       "  0%|          | 0/1 [00:00<?, ?it/s]"
      ]
     },
     "metadata": {},
     "output_type": "display_data"
    },
    {
     "name": "stdout",
     "output_type": "stream",
     "text": [
      "{'eval_loss': 7.120354175567627, 'eval_BIOSSES_validate_pearson_cosine': 0.8122595182515597, 'eval_BIOSSES_validate_spearman_cosine': 0.7887586173925677, 'eval_runtime': 0.1869, 'eval_samples_per_second': 85.612, 'eval_steps_per_second': 5.351, 'epoch': 10.0}\n",
      "{'loss': 1.6099, 'grad_norm': 123.14497375488281, 'learning_rate': 9.444444444444444e-07, 'epoch': 15.0}\n"
     ]
    },
    {
     "data": {
      "application/vnd.jupyter.widget-view+json": {
       "model_id": "c6b344ba200f403da801add0b81866fd",
       "version_major": 2,
       "version_minor": 0
      },
      "text/plain": [
       "  0%|          | 0/1 [00:00<?, ?it/s]"
      ]
     },
     "metadata": {},
     "output_type": "display_data"
    },
    {
     "name": "stdout",
     "output_type": "stream",
     "text": [
      "{'eval_loss': 6.738901138305664, 'eval_BIOSSES_validate_pearson_cosine': 0.821820646531903, 'eval_BIOSSES_validate_spearman_cosine': 0.8273069708741594, 'eval_runtime': 0.1121, 'eval_samples_per_second': 142.724, 'eval_steps_per_second': 8.92, 'epoch': 15.0}\n",
      "{'loss': 1.3293, 'grad_norm': 126.5667724609375, 'learning_rate': 8.888888888888888e-07, 'epoch': 20.0}\n"
     ]
    },
    {
     "data": {
      "application/vnd.jupyter.widget-view+json": {
       "model_id": "2f7b12c57d924a3c9133fd637f3285f1",
       "version_major": 2,
       "version_minor": 0
      },
      "text/plain": [
       "  0%|          | 0/1 [00:00<?, ?it/s]"
      ]
     },
     "metadata": {},
     "output_type": "display_data"
    },
    {
     "name": "stdout",
     "output_type": "stream",
     "text": [
      "{'eval_loss': 6.439163684844971, 'eval_BIOSSES_validate_pearson_cosine': 0.829804580517085, 'eval_BIOSSES_validate_spearman_cosine': 0.8391680027146491, 'eval_runtime': 0.1552, 'eval_samples_per_second': 103.087, 'eval_steps_per_second': 6.443, 'epoch': 20.0}\n",
      "{'loss': 1.1596, 'grad_norm': 7.657847881317139, 'learning_rate': 8.333333333333333e-07, 'epoch': 25.0}\n"
     ]
    },
    {
     "data": {
      "application/vnd.jupyter.widget-view+json": {
       "model_id": "f02362aaf94f4949adfd8e187cac5e06",
       "version_major": 2,
       "version_minor": 0
      },
      "text/plain": [
       "  0%|          | 0/1 [00:00<?, ?it/s]"
      ]
     },
     "metadata": {},
     "output_type": "display_data"
    },
    {
     "name": "stdout",
     "output_type": "stream",
     "text": [
      "{'eval_loss': 6.25223970413208, 'eval_BIOSSES_validate_pearson_cosine': 0.8346190147114352, 'eval_BIOSSES_validate_spearman_cosine': 0.8347201157744654, 'eval_runtime': 0.1207, 'eval_samples_per_second': 132.539, 'eval_steps_per_second': 8.284, 'epoch': 25.0}\n",
      "{'loss': 0.9193, 'grad_norm': 114.37818145751953, 'learning_rate': 7.777777777777778e-07, 'epoch': 30.0}\n"
     ]
    },
    {
     "data": {
      "application/vnd.jupyter.widget-view+json": {
       "model_id": "ca5f9a9ca614406da3367045db3814a5",
       "version_major": 2,
       "version_minor": 0
      },
      "text/plain": [
       "  0%|          | 0/1 [00:00<?, ?it/s]"
      ]
     },
     "metadata": {},
     "output_type": "display_data"
    },
    {
     "name": "stdout",
     "output_type": "stream",
     "text": [
      "{'eval_loss': 6.134754180908203, 'eval_BIOSSES_validate_pearson_cosine': 0.8385801058493763, 'eval_BIOSSES_validate_spearman_cosine': 0.8347201157744654, 'eval_runtime': 0.1182, 'eval_samples_per_second': 135.396, 'eval_steps_per_second': 8.462, 'epoch': 30.0}\n",
      "{'loss': 0.9124, 'grad_norm': 53.17500305175781, 'learning_rate': 7.222222222222221e-07, 'epoch': 35.0}\n"
     ]
    },
    {
     "data": {
      "application/vnd.jupyter.widget-view+json": {
       "model_id": "f04199e4f91e4fd2af32cca6defadc5f",
       "version_major": 2,
       "version_minor": 0
      },
      "text/plain": [
       "  0%|          | 0/1 [00:00<?, ?it/s]"
      ]
     },
     "metadata": {},
     "output_type": "display_data"
    },
    {
     "name": "stdout",
     "output_type": "stream",
     "text": [
      "{'eval_loss': 6.028105735778809, 'eval_BIOSSES_validate_pearson_cosine': 0.8417979818569801, 'eval_BIOSSES_validate_spearman_cosine': 0.8569595504753837, 'eval_runtime': 0.1869, 'eval_samples_per_second': 85.602, 'eval_steps_per_second': 5.35, 'epoch': 35.0}\n",
      "{'loss': 0.7661, 'grad_norm': 39.26213455200195, 'learning_rate': 6.666666666666666e-07, 'epoch': 40.0}\n"
     ]
    },
    {
     "data": {
      "application/vnd.jupyter.widget-view+json": {
       "model_id": "66c1d4c0a32d4a59acafdb940ba3691b",
       "version_major": 2,
       "version_minor": 0
      },
      "text/plain": [
       "  0%|          | 0/1 [00:00<?, ?it/s]"
      ]
     },
     "metadata": {},
     "output_type": "display_data"
    },
    {
     "name": "stdout",
     "output_type": "stream",
     "text": [
      "{'eval_loss': 6.011462211608887, 'eval_BIOSSES_validate_pearson_cosine': 0.8428962354566085, 'eval_BIOSSES_validate_spearman_cosine': 0.8569595504753837, 'eval_runtime': 0.2282, 'eval_samples_per_second': 70.119, 'eval_steps_per_second': 4.382, 'epoch': 40.0}\n",
      "{'loss': 0.6676, 'grad_norm': 103.1226577758789, 'learning_rate': 6.111111111111112e-07, 'epoch': 45.0}\n"
     ]
    },
    {
     "data": {
      "application/vnd.jupyter.widget-view+json": {
       "model_id": "9197302508c8457d99ca8f8f699a9db8",
       "version_major": 2,
       "version_minor": 0
      },
      "text/plain": [
       "  0%|          | 0/1 [00:00<?, ?it/s]"
      ]
     },
     "metadata": {},
     "output_type": "display_data"
    },
    {
     "name": "stdout",
     "output_type": "stream",
     "text": [
      "{'eval_loss': 6.015958786010742, 'eval_BIOSSES_validate_pearson_cosine': 0.8438237390263221, 'eval_BIOSSES_validate_spearman_cosine': 0.8569595504753837, 'eval_runtime': 0.1379, 'eval_samples_per_second': 116.017, 'eval_steps_per_second': 7.251, 'epoch': 45.0}\n",
      "{'loss': 0.6737, 'grad_norm': 77.2341537475586, 'learning_rate': 5.555555555555555e-07, 'epoch': 50.0}\n"
     ]
    },
    {
     "data": {
      "application/vnd.jupyter.widget-view+json": {
       "model_id": "1e7aee2d62084d87be5db5f5815c75ed",
       "version_major": 2,
       "version_minor": 0
      },
      "text/plain": [
       "  0%|          | 0/1 [00:00<?, ?it/s]"
      ]
     },
     "metadata": {},
     "output_type": "display_data"
    },
    {
     "name": "stdout",
     "output_type": "stream",
     "text": [
      "{'eval_loss': 5.991096496582031, 'eval_BIOSSES_validate_pearson_cosine': 0.8457008004157961, 'eval_BIOSSES_validate_spearman_cosine': 0.8569595504753837, 'eval_runtime': 0.1604, 'eval_samples_per_second': 99.775, 'eval_steps_per_second': 6.236, 'epoch': 50.0}\n",
      "{'loss': 0.7249, 'grad_norm': 48.72550964355469, 'learning_rate': 5e-07, 'epoch': 55.0}\n"
     ]
    },
    {
     "data": {
      "application/vnd.jupyter.widget-view+json": {
       "model_id": "f53d4655800f4f77818562ad8580c971",
       "version_major": 2,
       "version_minor": 0
      },
      "text/plain": [
       "  0%|          | 0/1 [00:00<?, ?it/s]"
      ]
     },
     "metadata": {},
     "output_type": "display_data"
    },
    {
     "name": "stdout",
     "output_type": "stream",
     "text": [
      "{'eval_loss': 5.932181358337402, 'eval_BIOSSES_validate_pearson_cosine': 0.8474433752641244, 'eval_BIOSSES_validate_spearman_cosine': 0.8569595504753837, 'eval_runtime': 0.1161, 'eval_samples_per_second': 137.871, 'eval_steps_per_second': 8.617, 'epoch': 55.0}\n",
      "{'loss': 0.5621, 'grad_norm': 20.066314697265625, 'learning_rate': 4.444444444444444e-07, 'epoch': 60.0}\n"
     ]
    },
    {
     "data": {
      "application/vnd.jupyter.widget-view+json": {
       "model_id": "b957c40add74437fbf2b45b64f16bdf9",
       "version_major": 2,
       "version_minor": 0
      },
      "text/plain": [
       "  0%|          | 0/1 [00:00<?, ?it/s]"
      ]
     },
     "metadata": {},
     "output_type": "display_data"
    },
    {
     "name": "stdout",
     "output_type": "stream",
     "text": [
      "{'eval_loss': 5.922840595245361, 'eval_BIOSSES_validate_pearson_cosine': 0.8478882233576817, 'eval_BIOSSES_validate_spearman_cosine': 0.8569595504753837, 'eval_runtime': 0.1034, 'eval_samples_per_second': 154.714, 'eval_steps_per_second': 9.67, 'epoch': 60.0}\n",
      "{'loss': 0.5654, 'grad_norm': 50.50199508666992, 'learning_rate': 3.888888888888889e-07, 'epoch': 65.0}\n"
     ]
    },
    {
     "data": {
      "application/vnd.jupyter.widget-view+json": {
       "model_id": "d1c573b22f4c4bc8b0510f5b1d405953",
       "version_major": 2,
       "version_minor": 0
      },
      "text/plain": [
       "  0%|          | 0/1 [00:00<?, ?it/s]"
      ]
     },
     "metadata": {},
     "output_type": "display_data"
    },
    {
     "name": "stdout",
     "output_type": "stream",
     "text": [
      "{'eval_loss': 5.864381790161133, 'eval_BIOSSES_validate_pearson_cosine': 0.849756488631928, 'eval_BIOSSES_validate_spearman_cosine': 0.8569595504753837, 'eval_runtime': 0.1229, 'eval_samples_per_second': 130.14, 'eval_steps_per_second': 8.134, 'epoch': 65.0}\n",
      "{'loss': 0.4994, 'grad_norm': 130.8285675048828, 'learning_rate': 3.333333333333333e-07, 'epoch': 70.0}\n"
     ]
    },
    {
     "data": {
      "application/vnd.jupyter.widget-view+json": {
       "model_id": "1e880f5cbecb468482cc1ad4edb878e5",
       "version_major": 2,
       "version_minor": 0
      },
      "text/plain": [
       "  0%|          | 0/1 [00:00<?, ?it/s]"
      ]
     },
     "metadata": {},
     "output_type": "display_data"
    },
    {
     "name": "stdout",
     "output_type": "stream",
     "text": [
      "{'eval_loss': 5.857019424438477, 'eval_BIOSSES_validate_pearson_cosine': 0.8501359131079611, 'eval_BIOSSES_validate_spearman_cosine': 0.8569595504753837, 'eval_runtime': 0.2271, 'eval_samples_per_second': 70.449, 'eval_steps_per_second': 4.403, 'epoch': 70.0}\n",
      "{'loss': 0.5415, 'grad_norm': 45.098487854003906, 'learning_rate': 2.7777777777777776e-07, 'epoch': 75.0}\n"
     ]
    },
    {
     "data": {
      "application/vnd.jupyter.widget-view+json": {
       "model_id": "184fe87d80e74fa1b322f8b27d15195d",
       "version_major": 2,
       "version_minor": 0
      },
      "text/plain": [
       "  0%|          | 0/1 [00:00<?, ?it/s]"
      ]
     },
     "metadata": {},
     "output_type": "display_data"
    },
    {
     "name": "stdout",
     "output_type": "stream",
     "text": [
      "{'eval_loss': 5.853856563568115, 'eval_BIOSSES_validate_pearson_cosine': 0.8503467718783346, 'eval_BIOSSES_validate_spearman_cosine': 0.8569595504753837, 'eval_runtime': 0.1017, 'eval_samples_per_second': 157.266, 'eval_steps_per_second': 9.829, 'epoch': 75.0}\n",
      "{'loss': 0.4312, 'grad_norm': 26.051889419555664, 'learning_rate': 2.222222222222222e-07, 'epoch': 80.0}\n"
     ]
    },
    {
     "data": {
      "application/vnd.jupyter.widget-view+json": {
       "model_id": "fb3a1115d091449f842782177d01d20e",
       "version_major": 2,
       "version_minor": 0
      },
      "text/plain": [
       "  0%|          | 0/1 [00:00<?, ?it/s]"
      ]
     },
     "metadata": {},
     "output_type": "display_data"
    },
    {
     "name": "stdout",
     "output_type": "stream",
     "text": [
      "{'eval_loss': 5.844217777252197, 'eval_BIOSSES_validate_pearson_cosine': 0.8510057677066618, 'eval_BIOSSES_validate_spearman_cosine': 0.8569595504753837, 'eval_runtime': 0.1083, 'eval_samples_per_second': 147.787, 'eval_steps_per_second': 9.237, 'epoch': 80.0}\n",
      "{'loss': 0.5843, 'grad_norm': 8.837791442871094, 'learning_rate': 1.6666666666666665e-07, 'epoch': 85.0}\n"
     ]
    },
    {
     "data": {
      "application/vnd.jupyter.widget-view+json": {
       "model_id": "f8ab7a14a4a346279eea14f1ed2fdaa0",
       "version_major": 2,
       "version_minor": 0
      },
      "text/plain": [
       "  0%|          | 0/1 [00:00<?, ?it/s]"
      ]
     },
     "metadata": {},
     "output_type": "display_data"
    },
    {
     "name": "stdout",
     "output_type": "stream",
     "text": [
      "{'eval_loss': 5.846545219421387, 'eval_BIOSSES_validate_pearson_cosine': 0.8510002730467289, 'eval_BIOSSES_validate_spearman_cosine': 0.8465811476149551, 'eval_runtime': 0.15, 'eval_samples_per_second': 106.649, 'eval_steps_per_second': 6.666, 'epoch': 85.0}\n",
      "{'loss': 0.5052, 'grad_norm': 85.35380554199219, 'learning_rate': 1.111111111111111e-07, 'epoch': 90.0}\n"
     ]
    },
    {
     "data": {
      "application/vnd.jupyter.widget-view+json": {
       "model_id": "8786ba70fec144de9213edabcfae5877",
       "version_major": 2,
       "version_minor": 0
      },
      "text/plain": [
       "  0%|          | 0/1 [00:00<?, ?it/s]"
      ]
     },
     "metadata": {},
     "output_type": "display_data"
    },
    {
     "name": "stdout",
     "output_type": "stream",
     "text": [
      "{'eval_loss': 5.84234619140625, 'eval_BIOSSES_validate_pearson_cosine': 0.851320818434129, 'eval_BIOSSES_validate_spearman_cosine': 0.8465811476149551, 'eval_runtime': 0.115, 'eval_samples_per_second': 139.181, 'eval_steps_per_second': 8.699, 'epoch': 90.0}\n",
      "{'loss': 0.4542, 'grad_norm': 2.0444140434265137, 'learning_rate': 5.555555555555555e-08, 'epoch': 95.0}\n"
     ]
    },
    {
     "data": {
      "application/vnd.jupyter.widget-view+json": {
       "model_id": "295b9a3ca14b48d4bed7cec3bdc2f47b",
       "version_major": 2,
       "version_minor": 0
      },
      "text/plain": [
       "  0%|          | 0/1 [00:00<?, ?it/s]"
      ]
     },
     "metadata": {},
     "output_type": "display_data"
    },
    {
     "name": "stdout",
     "output_type": "stream",
     "text": [
      "{'eval_loss': 5.833976745605469, 'eval_BIOSSES_validate_pearson_cosine': 0.8515467225051898, 'eval_BIOSSES_validate_spearman_cosine': 0.8465811476149551, 'eval_runtime': 0.1328, 'eval_samples_per_second': 120.503, 'eval_steps_per_second': 7.531, 'epoch': 95.0}\n",
      "{'loss': 0.4925, 'grad_norm': 11.6255464553833, 'learning_rate': 0.0, 'epoch': 100.0}\n"
     ]
    },
    {
     "data": {
      "application/vnd.jupyter.widget-view+json": {
       "model_id": "5e4cfa1cb81f4073a95c908ce9884fa5",
       "version_major": 2,
       "version_minor": 0
      },
      "text/plain": [
       "  0%|          | 0/1 [00:00<?, ?it/s]"
      ]
     },
     "metadata": {},
     "output_type": "display_data"
    },
    {
     "name": "stdout",
     "output_type": "stream",
     "text": [
      "{'eval_loss': 5.8351335525512695, 'eval_BIOSSES_validate_pearson_cosine': 0.851519633019667, 'eval_BIOSSES_validate_spearman_cosine': 0.8465811476149551, 'eval_runtime': 0.2451, 'eval_samples_per_second': 65.28, 'eval_steps_per_second': 4.08, 'epoch': 100.0}\n",
      "{'train_runtime': 174.7099, 'train_samples_per_second': 36.632, 'train_steps_per_second': 9.158, 'train_loss': 0.8619360375404358, 'epoch': 100.0}\n"
     ]
    },
    {
     "data": {
      "text/plain": [
       "TrainOutput(global_step=1600, training_loss=0.8619360375404358, metrics={'train_runtime': 174.7099, 'train_samples_per_second': 36.632, 'train_steps_per_second': 9.158, 'total_flos': 0.0, 'train_loss': 0.8619360375404358, 'epoch': 100.0})"
      ]
     },
     "execution_count": 17,
     "metadata": {},
     "output_type": "execute_result"
    }
   ],
   "source": [
    "trainer = SentenceTransformerTrainer(\n",
    "    model=model,\n",
    "    train_dataset=cleaned_train,\n",
    "    eval_dataset=cleaned_validation,\n",
    "    loss=loss,\n",
    "    args=args,\n",
    "    evaluator=dev_evaluator,\n",
    ")\n",
    "trainer.train()"
   ]
  },
  {
   "cell_type": "code",
   "execution_count": null,
   "metadata": {},
   "outputs": [
    {
     "data": {
      "text/plain": [
       "{'BIOSSES_test_pearson_cosine': 0.8518288612627938,\n",
       " 'BIOSSES_test_spearman_cosine': 0.8237669743411928}"
      ]
     },
     "execution_count": 18,
     "metadata": {},
     "output_type": "execute_result"
    }
   ],
   "source": [
    "test_results = test_evaluator(model)\n",
    "test_results"
   ]
  },
  {
   "cell_type": "code",
   "execution_count": null,
   "metadata": {},
   "outputs": [],
   "source": [
    "model.save_pretrained(\"models/all-MiniLM-L6-v2/final\")"
   ]
  },
  {
   "cell_type": "code",
   "execution_count": null,
   "metadata": {},
   "outputs": [
    {
     "data": {
      "text/plain": [
       "Dataset({\n",
       "    features: ['sentence1', 'sentence2', 'score'],\n",
       "    num_rows: 64\n",
       "})"
      ]
     },
     "execution_count": 20,
     "metadata": {},
     "output_type": "execute_result"
    }
   ],
   "source": [
    "cleaned_train"
   ]
  },
  {
   "cell_type": "code",
   "execution_count": null,
   "metadata": {},
   "outputs": [],
   "source": [
    "def evaluate_model(model_, test_set_, name=\"BIOSSES_test\"):\n",
    "    test_evaluator = EmbeddingSimilarityEvaluator(\n",
    "        sentences1=test_set_[\"sentence1\"],\n",
    "        sentences2=test_set_[\"sentence2\"],\n",
    "        scores=test_set_[\"score\"],\n",
    "        name=name,\n",
    "    )\n",
    "    return test_evaluator(model)"
   ]
  },
  {
   "cell_type": "code",
   "execution_count": null,
   "metadata": {},
   "outputs": [
    {
     "name": "stdout",
     "output_type": "stream",
     "text": [
      "0.8518288612627938\n",
      "0.9721099006701728\n",
      "0.8515467225051898\n"
     ]
    }
   ],
   "source": [
    "print(evaluate_model(model, cleaned_test)['BIOSSES_test_pearson_cosine'])\n",
    "print(evaluate_model(model, cleaned_train)['BIOSSES_test_pearson_cosine'])\n",
    "print(evaluate_model(model, cleaned_validation)['BIOSSES_test_pearson_cosine'])"
   ]
  },
  {
   "cell_type": "code",
   "execution_count": null,
   "metadata": {},
   "outputs": [],
   "source": []
  }
 ],
 "metadata": {
  "kernelspec": {
   "display_name": "base",
   "language": "python",
   "name": "python3"
  },
  "language_info": {
   "codemirror_mode": {
    "name": "ipython",
    "version": 3
   },
   "file_extension": ".py",
   "mimetype": "text/x-python",
   "name": "python",
   "nbconvert_exporter": "python",
   "pygments_lexer": "ipython3",
   "version": "3.12.3"
  }
 },
 "nbformat": 4,
 "nbformat_minor": 2
}
