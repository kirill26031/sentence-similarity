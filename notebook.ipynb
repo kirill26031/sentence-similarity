{
 "cells": [
  {
   "cell_type": "markdown",
   "metadata": {},
   "source": [
    "Sentence similarity\n",
    "Dataset: STS"
   ]
  },
  {
   "cell_type": "code",
   "execution_count": 45,
   "metadata": {},
   "outputs": [
    {
     "ename": "ImportError",
     "evalue": "cannot import name 'clean_dataset' from 'preprocessing' (c:\\repos\\MP-2\\nlp-lab\\sentence-similarity\\preprocessing.py)",
     "output_type": "error",
     "traceback": [
      "\u001b[1;31m---------------------------------------------------------------------------\u001b[0m",
      "\u001b[1;31mImportError\u001b[0m                               Traceback (most recent call last)",
      "Cell \u001b[1;32mIn[45], line 16\u001b[0m\n\u001b[0;32m     13\u001b[0m \u001b[38;5;66;03m# vocab = set(words.words())\u001b[39;00m\n\u001b[0;32m     14\u001b[0m \u001b[38;5;28;01mfrom\u001b[39;00m \u001b[38;5;21;01mnltk\u001b[39;00m\u001b[38;5;21;01m.\u001b[39;00m\u001b[38;5;21;01mstem\u001b[39;00m \u001b[38;5;28;01mimport\u001b[39;00m \u001b[38;5;241m*\u001b[39m\n\u001b[1;32m---> 16\u001b[0m \u001b[38;5;28;01mfrom\u001b[39;00m \u001b[38;5;21;01mpreprocessing\u001b[39;00m \u001b[38;5;28;01mimport\u001b[39;00m clean_sentence, vocab, clean_dataset\n",
      "\u001b[1;31mImportError\u001b[0m: cannot import name 'clean_dataset' from 'preprocessing' (c:\\repos\\MP-2\\nlp-lab\\sentence-similarity\\preprocessing.py)"
     ]
    }
   ],
   "source": [
    "import torch\n",
    "from datasets import load_dataset, Dataset\n",
    "import nltk\n",
    "import re\n",
    "import numpy as np\n",
    "import pandas as pd\n",
    "\n",
    "from nltk.corpus import words\n",
    "from nltk.corpus import stopwords\n",
    "nltk.download('stopwords', quiet=True)\n",
    "nltk.download('words', quiet=True)\n",
    "nltk.download('wordnet', quiet=True)\n",
    "# vocab = set(words.words())\n",
    "from nltk.stem import *\n",
    "\n",
    "from preprocessing import clean_sentence, vocab, clean_dataset"
   ]
  },
  {
   "cell_type": "code",
   "execution_count": 2,
   "metadata": {},
   "outputs": [],
   "source": [
    "ds = load_dataset(\"tabilab/biosses\")"
   ]
  },
  {
   "cell_type": "code",
   "execution_count": 12,
   "metadata": {},
   "outputs": [],
   "source": [
    "train_test = ds['train'].train_test_split(test_size=0.2, seed=42)\n",
    "train_validate = train_test['train'].train_test_split(test_size=0.2, seed=42)\n",
    "train_set = train_validate['train']\n",
    "validate_set = train_validate['test']\n",
    "test_set = train_test['test']"
   ]
  },
  {
   "cell_type": "code",
   "execution_count": 7,
   "metadata": {},
   "outputs": [],
   "source": [
    "stemmer = PorterStemmer()"
   ]
  },
  {
   "cell_type": "code",
   "execution_count": 8,
   "metadata": {},
   "outputs": [],
   "source": [
    "stemmed_words = set(map(lambda word: stemmer.stem(word), words.words()))"
   ]
  },
  {
   "cell_type": "code",
   "execution_count": null,
   "metadata": {},
   "outputs": [],
   "source": []
  },
  {
   "cell_type": "code",
   "execution_count": null,
   "metadata": {},
   "outputs": [],
   "source": [
    "cleaned_train, unknown_words = clean_dataset(train_set, stemmed_words)"
   ]
  },
  {
   "cell_type": "code",
   "execution_count": 44,
   "metadata": {},
   "outputs": [
    {
     "name": "stdout",
     "output_type": "stream",
     "text": [
      "{'upregulated', 'TargetScan', 'rate-limiting', 'NSCLCs', '(GEFs)', 'let-7)', 'PicTar', 'druggable', 'miR-373', 'electroporation', 'RIP3)', 'MCF7', 'anaphase-promoting', '(e.g', 'miR-17−5p', 'TFs', 'Tet2', 'actin-related', '(CD44', 'IDH1R132H', 'EC', 'Oct-4', 'GEFs', 'pre-miRNA', 'GATA6', 'LATS2-depletion', '10]', '[8]', 'Renilla-3′', 'GATA2', 'prometastatic', 'Eukaryotic', 'Oct4', 'RNAi', 'miR-372)', 'Wts2', 'Affymetrix', 'tumour', 'LATS1', 'TET1/2/3', 'oncogenes', 'BCL-XL/MEK', 'NSCLC', 'hr', '72', 'RNAi-mediated', 'TRAF6', 'ubiquitination', 'I/A', 'chromatin/nuclear', '(C/EBPα)', 'Braf', 'BAF', '<20%', '“cyclin', 'Oct4-associated', 'ubiquitin', 'HeLa', 'AML', 'Toji', 'Gata2', 'so-called', 'HEK293T', 'miR-204', 'granulopoiesis', 'K-ras-dependent', 'miRNA-regulated', '1', 'carcinoma]', 'long-standing', '(NFI-A)', 'senescence-like', 'RIPK3', 'protein-α', 'Sox11', 'up-regulated', 'ductal', 'miR-21)', 'SWI/SNF-regulated', 'TEL-AML1-positive', 'T47D', 'ng', 'Caco-2', 'SOX-17', 'MiR-223', '(see', 'MCF-7', 'RIPK1', 'mdm2', 'IDH1', '3', 'D1', 'checkpoints', 'dysregulation', '90%', 'signal-regulated', 'respectively)', 'myeloid-specific', 'oncogene', 'EGFR', 'RNAhybrid', 'LATS2', '16', 'Oct-4-dependent', 'miR-34', 'WT1', 'Neuro-2a', '7,000', 'zebrafish', 'pSuper', 'caspase-8', 'et', 'tumorigenic', '24', 'miR-133b', 'localisation', 'RIP3', 'necroptosis', 'tumor-suppressor', 'OSCC', 'apoptotic', '286', 'H-RASV12', '[', 'electroporated', 'microtubule-nucleating', 'Cyclin', 'qRT-PCR', 'SOX2', 'miR-146a', 'miR-155', 'CRaf', 'p53', 'Arp', '(GAPs)', 'miRVec-miR-204', 'OCT4', '2004)', 'IDH1/IDH2', 'hmC', 'GTPase', 'B-ALL', 'erythropoietin', 'TAK1', 'miR-204-miRVec', '(RIP1)', 'Craf', 'IL-1', '(RB1)', 'miR-15a', 'NH2-terminal', 'TET2', 'stem/progenitor', 'knock-down', 'TNF-mediated', 'downregulated', 'oncogene-driven', 'E2F1', 'clear-cell', 'wild-type', 'GTP-bound', 'PLK1', '(PTC)', 'miR-21', 'scrambled-miRVec', 'Lats2/Kpm', 'genome-scale', '22]', '(Fig', 'chromatin-remodeling', 'downregulation', 'dose-dependent', '7.4-fold', 'co-transfected', 'CCAAT/enhancer', 'caspase', 'box”', '(BRG-associated', 'Aurora-A', 'DIANA-microT', 'miR-24', 'pRb', 'BAF53', 'ATP-dependent', 'ligase', 'hWts2', 'miR-223', 'Up-regulation', '(ATCC)', 'upregulation', 'self-renewal', 'HOPX', 'UTR', '24-well', 'PPP', '(RIP', 'up-regulation', 'pRB', '(APC)', '95%', 'Kras-driven', 'microarray', 'vivo', 'RHO-related', 'APC-dependent', 'K-Ras-driven', 'Arp4-related', 'K-Ras', 'miR-34a', 'IDH2', '5′', 'review)', 'vitro', 'CDK5RAP2/Cnn', 'Skbr3', 'miR-16−1', 'large-scale', 'oncogenic', 'POU5F1', '(RIP1', 'G-proteins', 'deregulation', 'TET', 'germ-cell', '(together', '(', 'receptor-interacting', 'RHIMs)', 'KRas-dependent', 'Rho-signalling', 'BRaf', 'ribosome', 'miRNAs', 'p19(p14)/ARF', 'epithelial-mesenchymal', '(AML)', 'loss-of-function', 'RIP1', 'Lats1', '[18]', 'cycle-dependent', 'c-Raf', 'miR-126', 'SDS-PAGE', 'PC9', 'RNA', 'miR-143', 'SWI/SNF-like', 'SWI/SNF', 'plasmid', '5', 'ERK', 'miR-145', 'and/or', 'tumorigenesis', 'interest;', 'TBK1', 'TransIT-LT1', 'Thr288', 'RXXL', 'NIH3T3', 'transfected', 'oncogenesis]', 'non-neural', 'hepatocellular', 'Tumorigenesis', 'miR-146b', 'StemBase', '500', 'factor)', 'S2)', 'serine-threonine', '23]', 'coverslips', 'pCAG-GFP', 'shRNA-based', '(Mirus)', 'ribonucleotide', 'eukaryotic', 'STK33', 'MOE430A', 'miRNA', '43', 'G2/M', 'cyclin', 'ESCs', 'Transfection', 'Co-transfection', 'MiR-155', 'transcriptomics', 'proteasome', 'IDH', 'β-actin'}\n",
      "293\n"
     ]
    }
   ],
   "source": [
    "print(unknown_words)\n",
    "print(len(unknown_words))"
   ]
  },
  {
   "cell_type": "code",
   "execution_count": 36,
   "metadata": {},
   "outputs": [
    {
     "data": {
      "text/html": [
       "<div>\n",
       "<style scoped>\n",
       "    .dataframe tbody tr th:only-of-type {\n",
       "        vertical-align: middle;\n",
       "    }\n",
       "\n",
       "    .dataframe tbody tr th {\n",
       "        vertical-align: top;\n",
       "    }\n",
       "\n",
       "    .dataframe thead th {\n",
       "        text-align: right;\n",
       "    }\n",
       "</style>\n",
       "<table border=\"1\" class=\"dataframe\">\n",
       "  <thead>\n",
       "    <tr style=\"text-align: right;\">\n",
       "      <th></th>\n",
       "      <th>sentence1</th>\n",
       "      <th>sentence2</th>\n",
       "      <th>score</th>\n",
       "    </tr>\n",
       "  </thead>\n",
       "  <tbody>\n",
       "    <tr>\n",
       "      <th>0</th>\n",
       "      <td>centrosome increase size microtubule-nucleatin...</td>\n",
       "      <td>functional study show introduc cell line miR-1...</td>\n",
       "      <td>0.0</td>\n",
       "    </tr>\n",
       "    <tr>\n",
       "      <th>1</th>\n",
       "      <td>BAF53 β-actin subunit implic mammalian SWI/SNF...</td>\n",
       "      <td>β-actin actin-related protein found various AT...</td>\n",
       "      <td>3.0</td>\n",
       "    </tr>\n",
       "    <tr>\n",
       "      <th>2</th>\n",
       "      <td>mammalian Arp BAF53 (BRG-associated factor) β-...</td>\n",
       "      <td>addition Arp4-related BAF53 β-actin component ...</td>\n",
       "      <td>3.4</td>\n",
       "    </tr>\n",
       "    <tr>\n",
       "      <th>3</th>\n",
       "      <td>many tumor either overexpress so-called oncoge...</td>\n",
       "      <td>note miR-373 previously identifi potential onc...</td>\n",
       "      <td>1.8</td>\n",
       "    </tr>\n",
       "    <tr>\n",
       "      <th>4</th>\n",
       "      <td>consequently miRNAs demonstr act either oncoge...</td>\n",
       "      <td>given extensive involvement miRNA physiology d...</td>\n",
       "      <td>2.8</td>\n",
       "    </tr>\n",
       "    <tr>\n",
       "      <th>...</th>\n",
       "      <td>...</td>\n",
       "      <td>...</td>\n",
       "      <td>...</td>\n",
       "    </tr>\n",
       "    <tr>\n",
       "      <th>59</th>\n",
       "      <td>several computational target prediction approa...</td>\n",
       "      <td>three program PicTar miranda TargetScan used p...</td>\n",
       "      <td>2.4</td>\n",
       "    </tr>\n",
       "    <tr>\n",
       "      <th>60</th>\n",
       "      <td>analysis expression different stage differenti...</td>\n",
       "      <td>investig pattern expression Oct4-associated da...</td>\n",
       "      <td>3.6</td>\n",
       "    </tr>\n",
       "    <tr>\n",
       "      <th>61</th>\n",
       "      <td>Sox11 repression miR-204 Neuro-2a cell (ATCC) ...</td>\n",
       "      <td>Co-transfection miRVec-miR-204 Renilla-3′ UTR ...</td>\n",
       "      <td>1.8</td>\n",
       "    </tr>\n",
       "    <tr>\n",
       "      <th>62</th>\n",
       "      <td>ironically rest recently describ tumor suppres...</td>\n",
       "      <td>human epithelial cell rest describ potent supp...</td>\n",
       "      <td>3.2</td>\n",
       "    </tr>\n",
       "    <tr>\n",
       "      <th>63</th>\n",
       "      <td>recently report expression IDH1R132H suppress ...</td>\n",
       "      <td>mechanism clarifi yet another genomic survey t...</td>\n",
       "      <td>1.6</td>\n",
       "    </tr>\n",
       "  </tbody>\n",
       "</table>\n",
       "<p>64 rows × 3 columns</p>\n",
       "</div>"
      ],
      "text/plain": [
       "                                            sentence1  \\\n",
       "0   centrosome increase size microtubule-nucleatin...   \n",
       "1   BAF53 β-actin subunit implic mammalian SWI/SNF...   \n",
       "2   mammalian Arp BAF53 (BRG-associated factor) β-...   \n",
       "3   many tumor either overexpress so-called oncoge...   \n",
       "4   consequently miRNAs demonstr act either oncoge...   \n",
       "..                                                ...   \n",
       "59  several computational target prediction approa...   \n",
       "60  analysis expression different stage differenti...   \n",
       "61  Sox11 repression miR-204 Neuro-2a cell (ATCC) ...   \n",
       "62  ironically rest recently describ tumor suppres...   \n",
       "63  recently report expression IDH1R132H suppress ...   \n",
       "\n",
       "                                            sentence2  score  \n",
       "0   functional study show introduc cell line miR-1...    0.0  \n",
       "1   β-actin actin-related protein found various AT...    3.0  \n",
       "2   addition Arp4-related BAF53 β-actin component ...    3.4  \n",
       "3   note miR-373 previously identifi potential onc...    1.8  \n",
       "4   given extensive involvement miRNA physiology d...    2.8  \n",
       "..                                                ...    ...  \n",
       "59  three program PicTar miranda TargetScan used p...    2.4  \n",
       "60  investig pattern expression Oct4-associated da...    3.6  \n",
       "61  Co-transfection miRVec-miR-204 Renilla-3′ UTR ...    1.8  \n",
       "62  human epithelial cell rest describ potent supp...    3.2  \n",
       "63  mechanism clarifi yet another genomic survey t...    1.6  \n",
       "\n",
       "[64 rows x 3 columns]"
      ]
     },
     "execution_count": 36,
     "metadata": {},
     "output_type": "execute_result"
    }
   ],
   "source": [
    "cleaned_df"
   ]
  }
 ],
 "metadata": {
  "kernelspec": {
   "display_name": "torch",
   "language": "python",
   "name": "python3"
  },
  "language_info": {
   "codemirror_mode": {
    "name": "ipython",
    "version": 3
   },
   "file_extension": ".py",
   "mimetype": "text/x-python",
   "name": "python",
   "nbconvert_exporter": "python",
   "pygments_lexer": "ipython3",
   "version": "3.12.7"
  }
 },
 "nbformat": 4,
 "nbformat_minor": 2
}
